{
  "nbformat": 4,
  "nbformat_minor": 0,
  "metadata": {
    "colab": {
      "name": "Fashion_mnist.ipynb",
      "version": "0.3.2",
      "provenance": []
    },
    "kernelspec": {
      "name": "python3",
      "display_name": "Python 3"
    }
  },
  "cells": [
    {
      "cell_type": "code",
      "metadata": {
        "id": "aANmeK0VAzjX",
        "colab_type": "code",
        "colab": {
          "base_uri": "https://localhost:8080/",
          "height": 494
        },
        "outputId": "1b5ce2c4-5dc2-4ae4-901e-bebd55e54539"
      },
      "source": [
        "import tensorflow as tf\n",
        "print(tf.__version__)\n",
        "mnist = tf.keras.datasets.mnist\n",
        "(training_images, training_labels), (test_images, test_labels) = mnist.load_data()\n",
        "training_images=training_images.reshape(60000, 28, 28, 1)\n",
        "training_images=training_images / 255.0\n",
        "test_images = test_images.reshape(10000, 28, 28, 1)\n",
        "test_images=test_images/255.0\n",
        "model = tf.keras.models.Sequential([\n",
        "  tf.keras.layers.Conv2D(32, (3,3), activation='relu', input_shape=(28, 28, 1)),\n",
        "  tf.keras.layers.MaxPooling2D(2, 2),\n",
        "  tf.keras.layers.Flatten(),\n",
        "  tf.keras.layers.Dense(128, activation='relu'),\n",
        "  tf.keras.layers.Dense(10, activation='softmax')\n",
        "])\n",
        "model.compile(optimizer='adam', loss='sparse_categorical_crossentropy', metrics=['accuracy'])\n",
        "model.fit(training_images, training_labels, epochs=10)\n",
        "test_loss, test_acc = model.evaluate(test_images, test_labels)\n",
        "print(test_acc)"
      ],
      "execution_count": 1,
      "outputs": [
        {
          "output_type": "stream",
          "text": [
            "1.13.1\n",
            "WARNING:tensorflow:From /usr/local/lib/python3.6/dist-packages/tensorflow/python/ops/resource_variable_ops.py:435: colocate_with (from tensorflow.python.framework.ops) is deprecated and will be removed in a future version.\n",
            "Instructions for updating:\n",
            "Colocations handled automatically by placer.\n",
            "Epoch 1/10\n",
            "60000/60000 [==============================] - 49s 820us/sample - loss: 0.1507 - acc: 0.9549\n",
            "Epoch 2/10\n",
            "60000/60000 [==============================] - 49s 813us/sample - loss: 0.0516 - acc: 0.9839\n",
            "Epoch 3/10\n",
            "60000/60000 [==============================] - 49s 813us/sample - loss: 0.0321 - acc: 0.9898\n",
            "Epoch 4/10\n",
            "60000/60000 [==============================] - 49s 809us/sample - loss: 0.0207 - acc: 0.9940\n",
            "Epoch 5/10\n",
            "60000/60000 [==============================] - 48s 799us/sample - loss: 0.0158 - acc: 0.9952\n",
            "Epoch 6/10\n",
            "60000/60000 [==============================] - 48s 805us/sample - loss: 0.0101 - acc: 0.9970\n",
            "Epoch 7/10\n",
            "60000/60000 [==============================] - 49s 810us/sample - loss: 0.0090 - acc: 0.9971\n",
            "Epoch 8/10\n",
            "60000/60000 [==============================] - 49s 816us/sample - loss: 0.0064 - acc: 0.9980\n",
            "Epoch 9/10\n",
            "60000/60000 [==============================] - 49s 815us/sample - loss: 0.0060 - acc: 0.9980\n",
            "Epoch 10/10\n",
            "60000/60000 [==============================] - 49s 819us/sample - loss: 0.0043 - acc: 0.9987\n",
            "10000/10000 [==============================] - 2s 242us/sample - loss: 0.0739 - acc: 0.9830\n",
            "0.983\n"
          ],
          "name": "stdout"
        }
      ]
    }
  ]
}